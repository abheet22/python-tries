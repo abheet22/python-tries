{
 "cells": [
  {
   "cell_type": "code",
   "execution_count": 4,
   "metadata": {
    "collapsed": false,
    "deletable": true,
    "editable": true
   },
   "outputs": [
    {
     "name": "stdout",
     "output_type": "stream",
     "text": [
      "except a\n",
      "except b\n",
      "except h\n",
      "except e\n",
      "except e\n",
      "except t\n",
      "{}\n"
     ]
    }
   ],
   "source": [
    "def tries(word,pos):\n",
    "        \n",
    "tries('abheet')  "
   ]
  },
  {
   "cell_type": "code",
   "execution_count": 48,
   "metadata": {
    "collapsed": false
   },
   "outputs": [],
   "source": [
    "\n",
    "def make_trie(*words):\n",
    "    print(type(words))\n",
    "    root = dict()\n",
    "    for word in words:\n",
    "        current_dict = root\n",
    "        for letter in word:\n",
    "            current_dict = current_dict.setdefault(letter, {})\n",
    "        current_dict['_end'] = word\n",
    "    return root\n",
    "\n",
    "def insert_tries(word,root):\n",
    "    current_dict = root\n",
    "    for letter in word:\n",
    "        current_dict = current_dict.setdefault(letter, {})\n",
    "    current_dict['_end'] = word\n",
    "    return root\n",
    "\n",
    "def search(word,root):\n",
    "    for i in word:\n",
    "        try:\n",
    "            root = root[i]\n",
    "        except:\n",
    "            return None,False\n",
    "    return root['_end'],True\n",
    "\n",
    "def search_prefix(word,root):\n",
    "    for i in word:\n",
    "        try:\n",
    "            root = root[i]\n",
    "        except:\n",
    "            return None,False\n",
    "    return root,True\n",
    "\n",
    "def all_word_prefix(root,all_words):\n",
    "    for key,value in root.items():\n",
    "        if key == '_end':\n",
    "            all_words.append(value)\n",
    "        else:\n",
    "            all_word_prefix(value,all_words) \n",
    "    return True\n",
    "\n",
    "\n",
    "\n",
    "\n",
    "\n",
    "def main():\n",
    "    all_words = list()\n",
    "    root = make_trie('abhi','abheet','abhinav','abhit')\n",
    "    # root = insert_tries('hello',root)\n",
    "    root,exist = search_prefix('abhi',root)\n",
    "    all_word_prefix(root,all_words)\n",
    "    print(all_words)"
   ]
  },
  {
   "cell_type": "code",
   "execution_count": null,
   "metadata": {
    "collapsed": true
   },
   "outputs": [],
   "source": []
  },
  {
   "cell_type": "code",
   "execution_count": null,
   "metadata": {
    "collapsed": true
   },
   "outputs": [],
   "source": []
  },
  {
   "cell_type": "code",
   "execution_count": null,
   "metadata": {
    "collapsed": true
   },
   "outputs": [],
   "source": []
  }
 ],
 "metadata": {
  "kernelspec": {
   "display_name": "Python 3",
   "language": "python",
   "name": "python3"
  },
  "language_info": {
   "codemirror_mode": {
    "name": "ipython",
    "version": 3
   },
   "file_extension": ".py",
   "mimetype": "text/x-python",
   "name": "python",
   "nbconvert_exporter": "python",
   "pygments_lexer": "ipython3",
   "version": "3.5.2"
  }
 },
 "nbformat": 4,
 "nbformat_minor": 2
}
